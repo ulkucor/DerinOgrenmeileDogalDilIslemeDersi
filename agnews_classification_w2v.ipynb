{
  "nbformat": 4,
  "nbformat_minor": 0,
  "metadata": {
    "colab": {
      "name": "agnews_classification_w2v.ipynb",
      "private_outputs": true,
      "provenance": [],
      "toc_visible": true
    },
    "kernelspec": {
      "name": "python3",
      "display_name": "Python 3"
    },
    "accelerator": "GPU"
  },
  "cells": [
    {
      "cell_type": "code",
      "metadata": {
        "id": "cfD6WqGZoodo"
      },
      "source": [
        "import pandas as pd"
      ],
      "execution_count": null,
      "outputs": []
    },
    {
      "cell_type": "code",
      "metadata": {
        "id": "NPfB4ABopmRJ"
      },
      "source": [
        "top_data_df = pd.read_csv('agnews/train.csv')\r\n",
        "print(\"Columns in the original dataset:\\n\")\r\n",
        "print(top_data_df.columns)"
      ],
      "execution_count": null,
      "outputs": []
    },
    {
      "cell_type": "code",
      "metadata": {
        "id": "Qvb_xMFvp_H9"
      },
      "source": [
        "from gensim.utils import simple_preprocess\r\n",
        "# Tokenize the text column to get the new column 'tokenized_text'\r\n",
        "top_data_df['tokenized_description'] = [simple_preprocess(line, deacc=True) for line in top_data_df['Description']]\r\n",
        "(top_data_df['tokenized_description'].head(10)) #print"
      ],
      "execution_count": null,
      "outputs": []
    },
    {
      "cell_type": "code",
      "metadata": {
        "id": "MC8Miv6kqF3q"
      },
      "source": [
        "from gensim.parsing.porter import PorterStemmer\r\n",
        "porter_stemmer = PorterStemmer()\r\n",
        "# Get the stemmed_tokens\r\n",
        "top_data_df['stemmed_tokens'] = [[porter_stemmer.stem(word) for word in tokens] for tokens in top_data_df['tokenized_description'] ]\r\n",
        "(top_data_df['stemmed_tokens'].head(10)) #print"
      ],
      "execution_count": null,
      "outputs": []
    },
    {
      "cell_type": "code",
      "metadata": {
        "id": "8WNrVPBOqW3L"
      },
      "source": [
        "from sklearn.model_selection import train_test_split\r\n",
        "# Train Test Split Function\r\n",
        "def split_train_test(top_data_df, test_size=0.3, shuffle_state=True):\r\n",
        "    X_train, X_test, Y_train, Y_test = train_test_split(top_data_df[['Class Index', 'Title', 'Description', 'stemmed_tokens']],\r\n",
        "                                                        top_data_df['Class Index'],\r\n",
        "                                                        shuffle=shuffle_state,\r\n",
        "                                                        test_size=test_size,\r\n",
        "                                                        random_state=15)\r\n",
        "    print(\"Value counts for Train sentiments\")\r\n",
        "    print(Y_train.value_counts())\r\n",
        "    print(\"Value counts for Test sentiments\")\r\n",
        "    print(Y_test.value_counts())\r\n",
        "    print(type(X_train))\r\n",
        "    print(type(Y_train))\r\n",
        "    X_train = X_train.reset_index()\r\n",
        "    X_test = X_test.reset_index()\r\n",
        "    Y_train = Y_train.to_frame()\r\n",
        "    Y_train = Y_train.reset_index()\r\n",
        "    Y_test = Y_test.to_frame()\r\n",
        "    Y_test = Y_test.reset_index()\r\n",
        "    print(X_train.head())\r\n",
        "    return X_train, X_test, Y_train, Y_test\r\n",
        "\r\n",
        "# Call the train_test_split\r\n",
        "X_train, X_test, Y_train, Y_test = split_train_test(top_data_df)"
      ],
      "execution_count": null,
      "outputs": []
    },
    {
      "cell_type": "code",
      "metadata": {
        "id": "usfxPm1vqfu9"
      },
      "source": [
        "import torch.nn as nn\r\n",
        "import torch.nn.functional as F\r\n",
        "import torch.optim as optim\r\n",
        "\r\n",
        "import torch\r\n",
        "# Use cuda if present\r\n",
        "device = torch.device(\"cuda\" if torch.cuda.is_available() else \"cpu\")\r\n",
        "print(\"Device available for running: \")\r\n",
        "print(device)"
      ],
      "execution_count": null,
      "outputs": []
    },
    {
      "cell_type": "code",
      "metadata": {
        "id": "kb5u9R1DqpBM"
      },
      "source": [
        "from gensim.models import Word2Vec\r\n",
        "size = 500\r\n",
        "window = 3\r\n",
        "min_count = 1\r\n",
        "workers = 3\r\n",
        "sg = 1\r\n",
        "OUTPUT_FOLDER = \"./OUTPUT_FOLDER/\"\r\n",
        "# Function to train word2vec model\r\n",
        "def make_word2vec_model(top_data_df, padding=True, sg=1, min_count=1, size=500, workers=3, window=3):\r\n",
        "    if  padding:\r\n",
        "        print(len(top_data_df))\r\n",
        "        temp_df = pd.Series(top_data_df['stemmed_tokens']).values\r\n",
        "        temp_df = list(temp_df)\r\n",
        "        temp_df.append(['pad'])\r\n",
        "        word2vec_file = OUTPUT_FOLDER + 'models/' + 'word2vec_' + str(size) + '_PAD.model'\r\n",
        "    else:\r\n",
        "        temp_df = top_data_df['stemmed_tokens']\r\n",
        "        word2vec_file = OUTPUT_FOLDER + 'models/' + 'word2vec_' + str(size) + '.model'\r\n",
        "    w2v_model = Word2Vec(temp_df, min_count = min_count, size = size, workers = workers, window = window, sg = sg)\r\n",
        "\r\n",
        "    w2v_model.save(word2vec_file)\r\n",
        "    return w2v_model, word2vec_file\r\n",
        "\r\n",
        "# Train Word2vec model\r\n",
        "w2vmodel, word2vec_file = make_word2vec_model(top_data_df, padding=True, sg=sg, min_count=min_count, size=size, workers=workers, window=window)"
      ],
      "execution_count": null,
      "outputs": []
    },
    {
      "cell_type": "code",
      "metadata": {
        "id": "pis_9bE9rRlJ"
      },
      "source": [
        "max_sen_len = top_data_df.stemmed_tokens.map(len).max()\r\n",
        "padding_idx = w2vmodel.wv.vocab['pad'].index\r\n",
        "def make_word2vec_vector_cnn(sentence):\r\n",
        "    padded_X = [padding_idx for i in range(max_sen_len)]\r\n",
        "    i = 0\r\n",
        "    for word in sentence:\r\n",
        "        if word not in w2vmodel.wv.vocab:\r\n",
        "            padded_X[i] = 0\r\n",
        "            print(word)\r\n",
        "        else:\r\n",
        "            padded_X[i] = w2vmodel.wv.vocab[word].index\r\n",
        "        i += 1\r\n",
        "    return torch.tensor(padded_X, dtype=torch.long, device=device).view(1, -1)"
      ],
      "execution_count": null,
      "outputs": []
    },
    {
      "cell_type": "code",
      "metadata": {
        "id": "ETEfY05juyMl"
      },
      "source": [
        "# Function to get the output tensor\r\n",
        "def make_target(label):\r\n",
        "    if label == 1:\r\n",
        "        return torch.tensor([0], dtype=torch.long, device=device)\r\n",
        "    elif label == 2:\r\n",
        "        return torch.tensor([1], dtype=torch.long, device=device)\r\n",
        "    elif label == 3:\r\n",
        "        return torch.tensor([2], dtype=torch.long, device=device)\r\n",
        "    else:\r\n",
        "        return torch.tensor([3], dtype=torch.long, device=device)"
      ],
      "execution_count": null,
      "outputs": []
    },
    {
      "cell_type": "code",
      "metadata": {
        "id": "TwWiLHDJrdVF"
      },
      "source": [
        "EMBEDDING_SIZE = 500\r\n",
        "NUM_FILTERS = 10\r\n",
        "import gensim\r\n",
        "\r\n",
        "class CnnTextClassifier(nn.Module):\r\n",
        "    def __init__(self, vocab_size, num_classes, window_sizes=(1,2,3,5)):\r\n",
        "        super(CnnTextClassifier, self).__init__()\r\n",
        "        w2vmodel = gensim.models.KeyedVectors.load(OUTPUT_FOLDER + 'models/' + 'word2vec_500_PAD.model')\r\n",
        "        weights = w2vmodel.wv\r\n",
        "        # With pretrained embeddings\r\n",
        "        self.embedding = nn.Embedding.from_pretrained(torch.FloatTensor(weights.vectors), padding_idx=w2vmodel.wv.vocab['pad'].index)\r\n",
        "        # Without pretrained embeddings\r\n",
        "        # self.embedding = nn.Embedding(vocab_size, EMBEDDING_SIZE)\r\n",
        "\r\n",
        "        self.convs = nn.ModuleList([\r\n",
        "                                   nn.Conv2d(1, NUM_FILTERS, [window_size, EMBEDDING_SIZE], padding=(window_size - 1, 0))\r\n",
        "                                   for window_size in window_sizes\r\n",
        "        ])\r\n",
        "\r\n",
        "        self.fc = nn.Linear(NUM_FILTERS * len(window_sizes), num_classes)\r\n",
        "\r\n",
        "    def forward(self, x):\r\n",
        "        x = self.embedding(x) # [B, T, E]\r\n",
        "\r\n",
        "        # Apply a convolution + max_pool layer for each window size\r\n",
        "        x = torch.unsqueeze(x, 1)\r\n",
        "        xs = []\r\n",
        "        for conv in self.convs:\r\n",
        "            x2 = torch.tanh(conv(x))\r\n",
        "            x2 = torch.squeeze(x2, -1)\r\n",
        "            x2 = F.max_pool1d(x2, x2.size(2))\r\n",
        "            xs.append(x2)\r\n",
        "        x = torch.cat(xs, 2)\r\n",
        "\r\n",
        "        # FC\r\n",
        "        x = x.view(x.size(0), -1)\r\n",
        "        logits = self.fc(x)\r\n",
        "\r\n",
        "        probs = F.softmax(logits, dim = 1)\r\n",
        "\r\n",
        "        return probs"
      ],
      "execution_count": null,
      "outputs": []
    },
    {
      "cell_type": "code",
      "metadata": {
        "id": "yP9xnRxus36h"
      },
      "source": [
        "NUM_CLASSES = 4\r\n",
        "VOCAB_SIZE = len(w2vmodel.wv.vocab)\r\n",
        "\r\n",
        "cnn_model = CnnTextClassifier(vocab_size=VOCAB_SIZE, num_classes=NUM_CLASSES)\r\n",
        "cnn_model.to(device)\r\n",
        "loss_function = nn.CrossEntropyLoss()\r\n",
        "optimizer = optim.Adam(cnn_model.parameters(), lr=0.001)\r\n",
        "num_epochs = 30\r\n",
        "\r\n",
        "# Open the file for writing loss\r\n",
        "loss_file_name = OUTPUT_FOLDER +  'plots/' + 'cnn_class_big_loss_with_padding.csv'\r\n",
        "f = open(loss_file_name,'w')\r\n",
        "f.write('iter, loss')\r\n",
        "f.write('\\n')\r\n",
        "losses = []\r\n",
        "cnn_model.train()\r\n",
        "for epoch in range(num_epochs):\r\n",
        "    print(\"Epoch\" + str(epoch + 1))\r\n",
        "    train_loss = 0\r\n",
        "    for index, row in X_train.iterrows():\r\n",
        "        # Clearing the accumulated gradients\r\n",
        "        cnn_model.zero_grad()\r\n",
        "\r\n",
        "        # Make the bag of words vector for stemmed tokens \r\n",
        "        bow_vec = make_word2vec_vector_cnn(row['stemmed_tokens'])\r\n",
        "       \r\n",
        "        # Forward pass to get output\r\n",
        "        probs = cnn_model(bow_vec)\r\n",
        "\r\n",
        "        # Get the target label\r\n",
        "        target = make_target(Y_train['Class Index'][index])\r\n",
        "\r\n",
        "        # Calculate Loss: softmax --> cross entropy loss\r\n",
        "        loss = loss_function(probs, target)\r\n",
        "        train_loss += loss.item()\r\n",
        "\r\n",
        "        # Getting gradients w.r.t. parameters\r\n",
        "        loss.backward()\r\n",
        "\r\n",
        "        # Updating parameters\r\n",
        "        optimizer.step()\r\n",
        "\r\n",
        "\r\n",
        "    # if index == 0:\r\n",
        "    #     continue\r\n",
        "    print(\"Epoch ran :\"+ str(epoch+1))\r\n",
        "    f.write(str((epoch+1)) + \",\" + str(train_loss / len(X_train)))\r\n",
        "    f.write('\\n')\r\n",
        "    train_loss = 0\r\n",
        "\r\n",
        "torch.save(cnn_model, OUTPUT_FOLDER + 'cnn_big_model_500_with_padding.pth')\r\n",
        "\r\n",
        "f.close()\r\n",
        "print(\"Input vector\")\r\n",
        "print(bow_vec.cpu().numpy())\r\n",
        "print(\"Probs\")\r\n",
        "print(probs)\r\n",
        "print(torch.argmax(probs, dim=1).cpu().numpy()[0])"
      ],
      "execution_count": null,
      "outputs": []
    },
    {
      "cell_type": "code",
      "metadata": {
        "id": "AA9mvvTwLtt7"
      },
      "source": [
        "from sklearn.metrics import classification_report\r\n",
        "bow_cnn_predictions = []\r\n",
        "original_lables_cnn_bow = []\r\n",
        "cnn_model.eval()\r\n",
        "loss_df = pd.read_csv(OUTPUT_FOLDER + 'plots/' + 'cnn_class_big_loss_with_padding.csv')\r\n",
        "print(loss_df.columns)\r\n",
        "# loss_df.plot('loss')\r\n",
        "with torch.no_grad():\r\n",
        "    for index, row in X_test.iterrows():\r\n",
        "        bow_vec = make_word2vec_vector_cnn(row['stemmed_tokens'])\r\n",
        "        probs = cnn_model(bow_vec)\r\n",
        "        _, predicted = torch.max(probs.data, 1)\r\n",
        "        bow_cnn_predictions.append(predicted.cpu().numpy()[0])\r\n",
        "        original_lables_cnn_bow.append(make_target(Y_test['Class Index'][index]).cpu().numpy()[0])\r\n",
        "print(classification_report(original_lables_cnn_bow,bow_cnn_predictions))\r\n",
        "loss_file_name = OUTPUT_FOLDER +  'plots/' + 'cnn_class_big_loss_with_padding.csv'\r\n",
        "loss_df = pd.read_csv(loss_file_name)\r\n",
        "print(loss_df.columns)\r\n",
        "plt_500_padding_30_epochs = loss_df[' loss'].plot()\r\n",
        "fig = plt_500_padding_30_epochs.get_figure()\r\n",
        "#fig.savefig(OUTPUT_FOLDER +'plots/' + 'loss_plt_500_padding_30_epochs.pdf\")"
      ],
      "execution_count": null,
      "outputs": []
    }
  ]
}